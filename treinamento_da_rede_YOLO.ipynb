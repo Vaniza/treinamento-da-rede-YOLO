{
  "nbformat": 4,
  "nbformat_minor": 0,
  "metadata": {
    "colab": {
      "provenance": [],
      "gpuType": "T4",
      "authorship_tag": "ABX9TyNhwOyzWpLpdNHVEl58MDt4",
      "include_colab_link": true
    },
    "kernelspec": {
      "name": "python3",
      "display_name": "Python 3"
    },
    "language_info": {
      "name": "python"
    },
    "accelerator": "GPU"
  },
  "cells": [
    {
      "cell_type": "markdown",
      "metadata": {
        "id": "view-in-github",
        "colab_type": "text"
      },
      "source": [
        "<a href=\"https://colab.research.google.com/github/Vaniza/treinamento-da-rede-YOLO/blob/main/treinamento_da_rede_YOLO.ipynb\" target=\"_parent\"><img src=\"https://colab.research.google.com/assets/colab-badge.svg\" alt=\"Open In Colab\"/></a>"
      ]
    },
    {
      "cell_type": "code",
      "source": [
        "import os\n",
        "import torch\n",
        "import glob\n",
        "from IPython.display import Image, display"
      ],
      "metadata": {
        "id": "OqvUaiS8nt31"
      },
      "execution_count": null,
      "outputs": []
    },
    {
      "cell_type": "code",
      "source": [
        "%cd /content"
      ],
      "metadata": {
        "id": "kvhHdN_lyr-9"
      },
      "execution_count": null,
      "outputs": []
    },
    {
      "cell_type": "code",
      "execution_count": null,
      "metadata": {
        "id": "P1YV026rfbtY"
      },
      "outputs": [],
      "source": [
        "if not os.path.isdir(\"yolov5\"):\n",
        "    !git clone https://github.com/ultralytics/yolov5.git"
      ]
    },
    {
      "cell_type": "code",
      "source": [
        "%cd /content/yolov5"
      ],
      "metadata": {
        "id": "j7-3OivcyzpT"
      },
      "execution_count": null,
      "outputs": []
    },
    {
      "cell_type": "code",
      "source": [
        "!pip install -r requirements.txt"
      ],
      "metadata": {
        "id": "ZouLzrQ0lVQh"
      },
      "execution_count": null,
      "outputs": []
    },
    {
      "cell_type": "code",
      "source": [
        "print(\"GPU disponível:\", torch.cuda.is_available())"
      ],
      "metadata": {
        "id": "DkJOTN_5lb5h"
      },
      "execution_count": null,
      "outputs": []
    },
    {
      "cell_type": "code",
      "source": [
        "if not os.path.exists(\"/content/yolov5/coco128\"):\n",
        "    print(\"Pasta 'coco128' não encontrada, baixando o dataset coco128...\")\n",
        "    !bash data/scripts/get_coco128.sh\n",
        "else:\n",
        "    print(\"Dataset coco128 encontrado!\")"
      ],
      "metadata": {
        "id": "i4xRdycUucuV"
      },
      "execution_count": null,
      "outputs": []
    },
    {
      "cell_type": "code",
      "source": [
        "#    Treinar o modelo utilizando o dataset coco128\n",
        "#    Usando o arquivo de configuração que está em \"data/coco128.yaml\"\n",
        "!python train.py --img 640 --batch 16 --epochs 3 --data data/coco128.yaml --weights yolov5s.pt\n"
      ],
      "metadata": {
        "id": "WpRcDU1imgn3"
      },
      "execution_count": null,
      "outputs": []
    },
    {
      "cell_type": "code",
      "source": [
        "!python detect.py --weights runs/train/exp/weights/best.pt --img 640 --conf 0.25 --source /content/yolov5/coco128/images/"
      ],
      "metadata": {
        "id": "Z18En4ZLpQDg"
      },
      "execution_count": null,
      "outputs": []
    },
    {
      "cell_type": "code",
      "source": [
        "print(\"Exibindo imagens de detecção:\")\n",
        "detection_images = glob.glob(\"/content/yolov5/runs/detect/exp/*.jpg\")\n",
        "for img_path in detection_images:\n",
        "    display(Image(filename=img_path))"
      ],
      "metadata": {
        "id": "oA0VwvYlp7Gf"
      },
      "execution_count": null,
      "outputs": []
    }
  ]
}